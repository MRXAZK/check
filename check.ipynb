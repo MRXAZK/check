{
 "cells": [
  {
   "cell_type": "code",
   "execution_count": 102,
   "metadata": {},
   "outputs": [
    {
     "name": "stdout",
     "output_type": "stream",
     "text": [
      "Untuk membeli Lollipops, uang Anda cukup di toko Shop D\n",
      "Untuk membeli Bread, uang Anda tidak cukup. Kami merekomendasikan Candy di Shop A\n"
     ]
    }
   ],
   "source": [
    "import json\n",
    "\n",
    "# Membaca data_uang.json\n",
    "with open('data_uang.json') as file:\n",
    "    data_uang = json.load(file)\n",
    "\n",
    "# Membaca data_toko.json\n",
    "with open('data_toko.json') as file:\n",
    "    data_toko = json.load(file)\n",
    "\n",
    "# Mencari produk dengan harga paling mahal yang dapat dibeli oleh setiap orang\n",
    "for person, person_data in data_uang.items():\n",
    "    money = person_data['money']\n",
    "    desire = person_data['desire']\n",
    "    \n",
    "    affordable_products = []\n",
    "    for shop in data_toko['shops']:\n",
    "        for product, price in shop['products'].items():\n",
    "            if price <= money:\n",
    "                affordable_products.append((product, price, shop['name']))\n",
    "    \n",
    "    # Memilih produk dengan harga paling mahal dari produk yang dapat dibeli\n",
    "    affordable_products.sort(key=lambda x: x[1], reverse=True)\n",
    "    \n",
    "    if affordable_products:\n",
    "        # Mengecek apakah ada produk yang sesuai dengan keinginan\n",
    "        desired_products = [product for product in affordable_products if product[0] == desire]\n",
    "        if desired_products:\n",
    "            product, price, shop_name = desired_products[0]\n",
    "            print(f\"Untuk membeli {product}, uang Anda cukup di toko {shop_name}\")\n",
    "        else:\n",
    "            # Jika tidak ada produk sesuai keinginan, rekomendasikan produk dengan harga paling mahal yang cukup\n",
    "            recommended_products = affordable_products[:3] if len(affordable_products) > 3 else affordable_products[:1]\n",
    "            recommended_products_str = ', '.join([f\"{product} di {shop_name}\" for product, price, shop_name in recommended_products])\n",
    "            print(f\"Untuk membeli {desire}, uang Anda tidak cukup. Kami merekomendasikan {recommended_products_str}\")\n",
    "    else:\n",
    "        print(f\"{person}, Anda tidak dapat membeli produk apa pun\")\n"
   ]
  }
 ],
 "metadata": {
  "kernelspec": {
   "display_name": "Python 3",
   "language": "python",
   "name": "python3"
  },
  "language_info": {
   "codemirror_mode": {
    "name": "ipython",
    "version": 3
   },
   "file_extension": ".py",
   "mimetype": "text/x-python",
   "name": "python",
   "nbconvert_exporter": "python",
   "pygments_lexer": "ipython3",
   "version": "3.11.1"
  },
  "orig_nbformat": 4
 },
 "nbformat": 4,
 "nbformat_minor": 2
}
